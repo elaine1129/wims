{
 "cells": [
  {
   "cell_type": "code",
   "execution_count": 1,
   "metadata": {},
   "outputs": [],
   "source": [
    "import pandas as pd\n",
    "import numpy as np"
   ]
  },
  {
   "cell_type": "code",
   "execution_count": 2,
   "metadata": {},
   "outputs": [],
   "source": [
    "dict = {}"
   ]
  },
  {
   "cell_type": "code",
   "execution_count": 32,
   "metadata": {},
   "outputs": [
    {
     "name": "stdout",
     "output_type": "stream",
     "text": [
      "{'A1': {'category_id': 1, 'inventory_id': 1}, 'A2': {'category_id': 1, 'inventory_id': 2}, 'A3': {'category_id': 1, 'inventory_id': 3}, 'A4': {'category_id': 1, 'inventory_id': 4}, 'A5': {'category_id': 1, 'inventory_id': 5}, 'A6': {'category_id': 1, 'inventory_id': 6}, 'A7': {'category_id': 1, 'inventory_id': 7}, 'A8': {'category_id': 1, 'inventory_id': 8}, 'A9': {'category_id': 1, 'inventory_id': 9}, 'A10': {'category_id': 1, 'inventory_id': 10}, 'A11': {'category_id': 1, 'inventory_id': 11}, 'A12': {'category_id': 1, 'inventory_id': 12}, 'A13': {'category_id': 1, 'inventory_id': 13}, 'A14': {'category_id': 1, 'inventory_id': 14}, 'A15': {'category_id': 1, 'inventory_id': 15}, 'A16': {'category_id': 1, 'inventory_id': 16}, 'A17': {'category_id': 1, 'inventory_id': 17}, 'A18': {'category_id': 1, 'inventory_id': -1}, 'A19': {'category_id': 1, 'inventory_id': -1}, 'A20': {'category_id': 1, 'inventory_id': -1}, 'B1': {'category_id': 1, 'inventory_id': -1}, 'B2': {'category_id': 1, 'inventory_id': -1}, 'B3': {'category_id': 1, 'inventory_id': -1}, 'B4': {'category_id': 1, 'inventory_id': -1}, 'B5': {'category_id': 1, 'inventory_id': -1}, 'B6': {'category_id': 2, 'inventory_id': 18}, 'B7': {'category_id': 2, 'inventory_id': 19}, 'B8': {'category_id': 2, 'inventory_id': 20}, 'B9': {'category_id': 2, 'inventory_id': 21}, 'B10': {'category_id': 2, 'inventory_id': 22}, 'B11': {'category_id': 2, 'inventory_id': 23}, 'B12': {'category_id': 2, 'inventory_id': 24}, 'B13': {'category_id': 2, 'inventory_id': 25}, 'B14': {'category_id': 2, 'inventory_id': 26}, 'B15': {'category_id': 2, 'inventory_id': 27}, 'B16': {'category_id': 2, 'inventory_id': 28}, 'B17': {'category_id': 2, 'inventory_id': 29}, 'B18': {'category_id': 2, 'inventory_id': 30}, 'B19': {'category_id': 2, 'inventory_id': 31}, 'B20': {'category_id': 2, 'inventory_id': 32}, 'C1': {'category_id': 2, 'inventory_id': 33}, 'C2': {'category_id': 2, 'inventory_id': 34}, 'C3': {'category_id': 2, 'inventory_id': 35}, 'C4': {'category_id': 2, 'inventory_id': 36}, 'C5': {'category_id': 2, 'inventory_id': 37}, 'C6': {'category_id': 2, 'inventory_id': -1}, 'C7': {'category_id': 2, 'inventory_id': -1}, 'C8': {'category_id': 2, 'inventory_id': -1}, 'C9': {'category_id': 2, 'inventory_id': -1}, 'C10': {'category_id': 2, 'inventory_id': -1}, 'C11': {'category_id': 3, 'inventory_id': 38}, 'C12': {'category_id': 3, 'inventory_id': 39}, 'C13': {'category_id': 3, 'inventory_id': 40}, 'C14': {'category_id': 3, 'inventory_id': 41}, 'C15': {'category_id': 3, 'inventory_id': 42}, 'C16': {'category_id': 3, 'inventory_id': 43}, 'C17': {'category_id': 3, 'inventory_id': 44}, 'C18': {'category_id': 3, 'inventory_id': 45}, 'C19': {'category_id': 3, 'inventory_id': 46}, 'C20': {'category_id': 3, 'inventory_id': 47}, 'D1': {'category_id': 3, 'inventory_id': 48}, 'D2': {'category_id': 3, 'inventory_id': 49}, 'D3': {'category_id': 3, 'inventory_id': 50}, 'D4': {'category_id': 3, 'inventory_id': 51}, 'D5': {'category_id': 3, 'inventory_id': 52}, 'D6': {'category_id': 3, 'inventory_id': 53}, 'D7': {'category_id': 3, 'inventory_id': 54}, 'D8': {'category_id': 3, 'inventory_id': 55}, 'D9': {'category_id': 3, 'inventory_id': 56}, 'D10': {'category_id': 3, 'inventory_id': 57}, 'D11': {'category_id': 3, 'inventory_id': -1}, 'D12': {'category_id': 3, 'inventory_id': -1}, 'D13': {'category_id': 3, 'inventory_id': -1}, 'D14': {'category_id': 3, 'inventory_id': -1}, 'D15': {'category_id': 3, 'inventory_id': -1}, 'D16': {'category_id': 4, 'inventory_id': 58}, 'D17': {'category_id': 4, 'inventory_id': 59}, 'D18': {'category_id': 4, 'inventory_id': 60}, 'D19': {'category_id': 4, 'inventory_id': 61}, 'D20': {'category_id': 4, 'inventory_id': 62}, 'E1': {'category_id': 4, 'inventory_id': 63}, 'E2': {'category_id': 4, 'inventory_id': 64}, 'E3': {'category_id': 4, 'inventory_id': 65}, 'E4': {'category_id': 4, 'inventory_id': 66}, 'E5': {'category_id': 4, 'inventory_id': 67}, 'E6': {'category_id': 4, 'inventory_id': 68}, 'E7': {'category_id': 4, 'inventory_id': 69}, 'E8': {'category_id': 4, 'inventory_id': 70}, 'E9': {'category_id': 4, 'inventory_id': 71}, 'E10': {'category_id': 4, 'inventory_id': 72}, 'E11': {'category_id': 4, 'inventory_id': 73}, 'E12': {'category_id': 4, 'inventory_id': 74}, 'E13': {'category_id': 4, 'inventory_id': 75}, 'E14': {'category_id': 4, 'inventory_id': 76}, 'E15': {'category_id': 4, 'inventory_id': 77}, 'E16': {'category_id': 4, 'inventory_id': -1}, 'E17': {'category_id': 4, 'inventory_id': -1}, 'E18': {'category_id': 4, 'inventory_id': -1}, 'E19': {'category_id': 4, 'inventory_id': -1}, 'E20': {'category_id': 4, 'inventory_id': -1}}\n"
     ]
    }
   ],
   "source": [
    "dict = {}\n",
    "inventories_per_bin = 20\n",
    "zones = [\"A\", \"B\",\"C\",\"D\",\"E\"]\n",
    "num_of_category = 4\n",
    "bin_size = 100/len(zones)\n",
    "bin_per_category = 100/num_of_category #4\n",
    "counter = 0\n",
    "cat_id = 0\n",
    "inv_id = 0\n",
    "for (i) in range(4):\n",
    "        cat_id +=1\n",
    "        for(k) in range(25):\n",
    "            if (counter<20):\n",
    "                bin_number = zones[0] + str(counter+1)\n",
    "            elif (counter<40):\n",
    "                bin_number = zones[1] + str(counter-19)\n",
    "            elif (counter<60):\n",
    "                bin_number = zones[2] + str(counter-39)\n",
    "            elif (counter<80):\n",
    "                bin_number = zones[3] + str(counter-59)\n",
    "            else:\n",
    "                bin_number = zones[4] + str(counter-79)\n",
    "            counter +=1\n",
    "            inner_dict={}\n",
    "            inner_dict[\"category_id\"] = cat_id\n",
    "            if((cat_id==1) and k>=17):\n",
    "                inner_dict[\"inventory_id\"] = -1\n",
    "            elif (k < inventories_per_bin):\n",
    "                inv_id+=1\n",
    "                inner_dict[\"inventory_id\"] = inv_id\n",
    "            else:\n",
    "                inner_dict[\"inventory_id\"] = -1\n",
    "\n",
    "            dict[bin_number] = inner_dict\n",
    "print(dict)"
   ]
  },
  {
   "cell_type": "code",
   "execution_count": null,
   "metadata": {},
   "outputs": [],
   "source": []
  }
 ],
 "metadata": {
  "interpreter": {
   "hash": "8fac594bfae6525c0c41b4041d2d72effa188cc8ead05f81b1fab2bb098927fb"
  },
  "kernelspec": {
   "display_name": "Python 3.9.7 ('base')",
   "language": "python",
   "name": "python3"
  },
  "language_info": {
   "codemirror_mode": {
    "name": "ipython",
    "version": 3
   },
   "file_extension": ".py",
   "mimetype": "text/x-python",
   "name": "python",
   "nbconvert_exporter": "python",
   "pygments_lexer": "ipython3",
   "version": "3.9.7"
  },
  "orig_nbformat": 4
 },
 "nbformat": 4,
 "nbformat_minor": 2
}
